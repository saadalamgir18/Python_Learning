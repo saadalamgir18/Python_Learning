{
 "cells": [
  {
   "cell_type": "markdown",
   "id": "broadband-connectivity",
   "metadata": {},
   "source": [
    "# Python Lists"
   ]
  },
  {
   "cell_type": "code",
   "execution_count": 2,
   "id": "integral-agenda",
   "metadata": {},
   "outputs": [],
   "source": [
    "a = [1,2,3]\n",
    "\n",
    "#a is list name\n",
    "# = is assignment operator\n",
    "# [] enclosed in square brackets separated by comma\n"
   ]
  },
  {
   "cell_type": "code",
   "execution_count": 3,
   "id": "sacred-socket",
   "metadata": {},
   "outputs": [],
   "source": [
    "cities = [\"Atlanta\", \"Baltimore\", \"Chicago\",\"Denver\", \"Los Angeles\", \"Seattle\"]"
   ]
  },
  {
   "cell_type": "code",
   "execution_count": 8,
   "id": "selective-wallace",
   "metadata": {},
   "outputs": [
    {
     "data": {
      "text/plain": [
       "['Atlanta',\n",
       " 'Baltimore',\n",
       " 'Chicago',\n",
       " 'Denver',\n",
       " 'Los Angeles',\n",
       " 'Seattle',\n",
       " 'New York']"
      ]
     },
     "execution_count": 8,
     "metadata": {},
     "output_type": "execute_result"
    }
   ],
   "source": [
    "cities"
   ]
  },
  {
   "cell_type": "code",
   "execution_count": 5,
   "id": "finite-composition",
   "metadata": {},
   "outputs": [],
   "source": [
    "mixed_things = [1, \"Bob\", \"Now is\"]\n",
    "# index         0    1        2"
   ]
  },
  {
   "cell_type": "markdown",
   "id": "minimal-royal",
   "metadata": {},
   "source": [
    "# Adding and changing elements"
   ]
  },
  {
   "cell_type": "code",
   "execution_count": 6,
   "id": "pleased-rubber",
   "metadata": {},
   "outputs": [],
   "source": [
    "cities.append(\"New York\")"
   ]
  },
  {
   "cell_type": "code",
   "execution_count": 7,
   "id": "blessed-jacksonville",
   "metadata": {},
   "outputs": [
    {
     "data": {
      "text/plain": [
       "['Atlanta',\n",
       " 'Baltimore',\n",
       " 'Chicago',\n",
       " 'Denver',\n",
       " 'Los Angeles',\n",
       " 'Seattle',\n",
       " 'New York']"
      ]
     },
     "execution_count": 7,
     "metadata": {},
     "output_type": "execute_result"
    }
   ],
   "source": [
    "cities"
   ]
  },
  {
   "cell_type": "code",
   "execution_count": 9,
   "id": "anonymous-catholic",
   "metadata": {},
   "outputs": [],
   "source": [
    "cities = cities + [\"Dubuque\", \"New Orleans\"]"
   ]
  },
  {
   "cell_type": "code",
   "execution_count": 10,
   "id": "mineral-assessment",
   "metadata": {},
   "outputs": [
    {
     "data": {
      "text/plain": [
       "['Atlanta',\n",
       " 'Baltimore',\n",
       " 'Chicago',\n",
       " 'Denver',\n",
       " 'Los Angeles',\n",
       " 'Seattle',\n",
       " 'New York',\n",
       " 'Dubuque',\n",
       " 'New Orleans']"
      ]
     },
     "execution_count": 10,
     "metadata": {},
     "output_type": "execute_result"
    }
   ],
   "source": [
    "cities"
   ]
  },
  {
   "cell_type": "code",
   "execution_count": 11,
   "id": "floating-sucking",
   "metadata": {},
   "outputs": [],
   "source": [
    "todays_tasks = []"
   ]
  },
  {
   "cell_type": "code",
   "execution_count": 14,
   "id": "adjusted-chile",
   "metadata": {},
   "outputs": [
    {
     "data": {
      "text/plain": [
       "['Walk dog', 'Buy groceries', 'Walk dog', 'Buy groceries']"
      ]
     },
     "execution_count": 14,
     "metadata": {},
     "output_type": "execute_result"
    }
   ],
   "source": [
    "todays_tasks = todays_tasks + [\"Walk dog\", \"Buy groceries\"]\n",
    "todays_tasks"
   ]
  },
  {
   "cell_type": "raw",
   "id": "connected-anniversary",
   "metadata": {},
   "source": [
    "cities[0] is \"Atlanta\"\n",
    "cities[1] is \"Baltimore\"\n",
    "cities[2] is \"Chicago\"\n",
    "cities[3] is \"Denver\"\n",
    "cities[4] is \"Los Angeles\"\n",
    "cities[5] is \"Seattle\""
   ]
  },
  {
   "cell_type": "code",
   "execution_count": 20,
   "id": "worst-tourist",
   "metadata": {},
   "outputs": [],
   "source": [
    "cities.insert(0, \"New York\")"
   ]
  },
  {
   "cell_type": "markdown",
   "id": "liberal-spring",
   "metadata": {},
   "source": [
    "# Taking slices out of them"
   ]
  },
  {
   "cell_type": "code",
   "execution_count": 26,
   "id": "contemporary-surgeon",
   "metadata": {},
   "outputs": [
    {
     "data": {
      "text/plain": [
       "['Baltimore', 'Chicago', 'Denver']"
      ]
     },
     "execution_count": 26,
     "metadata": {},
     "output_type": "execute_result"
    }
   ],
   "source": [
    "smaller_list_of_cities = cities[2:5]\n",
    "smaller_list_of_cities"
   ]
  },
  {
   "cell_type": "code",
   "execution_count": 23,
   "id": "nearby-dollar",
   "metadata": {},
   "outputs": [],
   "source": [
    "smaller_list_of_cities = cities[:5]\n",
    "smaller_list_of_cities"
   ]
  },
  {
   "cell_type": "code",
   "execution_count": 24,
   "id": "liked-folks",
   "metadata": {},
   "outputs": [
    {
     "data": {
      "text/plain": [
       "['New York', 'Atlanta', 'Baltimore', 'Chicago', 'Denver']"
      ]
     },
     "execution_count": 24,
     "metadata": {},
     "output_type": "execute_result"
    }
   ],
   "source": [
    "smaller_list_of_cities = cities[2:]\n",
    "smaller_list_of_cities"
   ]
  },
  {
   "cell_type": "markdown",
   "id": "numerical-country",
   "metadata": {},
   "source": [
    "# Deleting and removing elements"
   ]
  },
  {
   "cell_type": "code",
   "execution_count": 31,
   "id": "interstate-league",
   "metadata": {},
   "outputs": [
    {
     "name": "stdout",
     "output_type": "stream",
     "text": [
      "['email Frank', 'call Sarah', 'meet with Zach']\n",
      "['call Sarah', 'meet with Zach']\n"
     ]
    }
   ],
   "source": [
    "tasks = [\"email Frank\", \"call Sarah\", \"meet with Zach\"]\n",
    "print(tasks)\n",
    "del tasks[0]\n",
    "print(tasks)"
   ]
  },
  {
   "cell_type": "code",
   "execution_count": 34,
   "id": "spatial-saturday",
   "metadata": {},
   "outputs": [
    {
     "data": {
      "text/plain": [
       "['email Frank', 'meet with Zach']"
      ]
     },
     "execution_count": 34,
     "metadata": {},
     "output_type": "execute_result"
    }
   ],
   "source": [
    "tasks = [\"email Frank\", \"call Sarah\", \"meet with Zach\"]\n",
    "tasks.remove(\"call Sarah\")\n",
    "tasks"
   ]
  },
  {
   "cell_type": "markdown",
   "id": "suspended-water",
   "metadata": {},
   "source": [
    "# popping elements"
   ]
  },
  {
   "cell_type": "code",
   "execution_count": 35,
   "id": "unlike-logan",
   "metadata": {},
   "outputs": [
    {
     "data": {
      "text/plain": [
       "['email Frank', 'meet with Zach']"
      ]
     },
     "execution_count": 35,
     "metadata": {},
     "output_type": "execute_result"
    }
   ],
   "source": [
    "tasks = [\"email Frank\", \"call Sarah\", \"meet with Zach\"]\n",
    "latest_task_accomplished = tasks.pop(1)\n",
    "tasks"
   ]
  },
  {
   "cell_type": "code",
   "execution_count": 36,
   "id": "chicken-charlotte",
   "metadata": {},
   "outputs": [
    {
     "data": {
      "text/plain": [
       "'call Sarah'"
      ]
     },
     "execution_count": 36,
     "metadata": {},
     "output_type": "execute_result"
    }
   ],
   "source": [
    "latest_task_accomplished"
   ]
  },
  {
   "cell_type": "code",
   "execution_count": 40,
   "id": "retained-progressive",
   "metadata": {},
   "outputs": [],
   "source": [
    "tasks = [\"email Frank\", \"call Sarah\", \"meet with Zach\"]\n",
    "latest_task_accomplished = tasks.pop()"
   ]
  },
  {
   "cell_type": "code",
   "execution_count": 41,
   "id": "global-peripheral",
   "metadata": {},
   "outputs": [
    {
     "data": {
      "text/plain": [
       "['email Frank', 'call Sarah']"
      ]
     },
     "execution_count": 41,
     "metadata": {},
     "output_type": "execute_result"
    }
   ],
   "source": [
    "tasks"
   ]
  },
  {
   "cell_type": "markdown",
   "id": "bound-offense",
   "metadata": {},
   "source": [
    "# Tuples"
   ]
  },
  {
   "cell_type": "code",
   "execution_count": 42,
   "id": "italian-maldives",
   "metadata": {},
   "outputs": [],
   "source": [
    "#A tuple—pronounced \"toople\" by some people and \"tupple\" by others—is like a list, but the elements are fixed. \n",
    "#They can't be changed—unless you redefine thewhole tuple."
   ]
  },
  {
   "cell_type": "code",
   "execution_count": 45,
   "id": "herbal-arctic",
   "metadata": {},
   "outputs": [
    {
     "data": {
      "text/plain": [
       "('Delaware', 'Pennsylvania', 'New Jersey', 'Georgia')"
      ]
     },
     "execution_count": 45,
     "metadata": {},
     "output_type": "execute_result"
    }
   ],
   "source": [
    "states_in_order_of_founding = (\"Delaware\", \"Pennsylvania\", \"New Jersey\", \"Georgia\")\n",
    "states_in_order_of_founding"
   ]
  },
  {
   "cell_type": "code",
   "execution_count": 46,
   "id": "delayed-jonathan",
   "metadata": {},
   "outputs": [
    {
     "data": {
      "text/plain": [
       "'Pennsylvania'"
      ]
     },
     "execution_count": 46,
     "metadata": {},
     "output_type": "execute_result"
    }
   ],
   "source": [
    "second_state_founded = states_in_order_of_founding[1]\n",
    "second_state_founded"
   ]
  },
  {
   "cell_type": "markdown",
   "id": "frank-prime",
   "metadata": {},
   "source": [
    "# for loops"
   ]
  },
  {
   "cell_type": "code",
   "execution_count": 48,
   "id": "colored-mirror",
   "metadata": {},
   "outputs": [],
   "source": [
    "cleanest_cities = [\"Cheyenne\", \"Santa Fe\", \"Tucson\", \"Great Falls\", \"Honolulu\"]\n",
    "city_to_check = \"Tucson\""
   ]
  },
  {
   "cell_type": "code",
   "execution_count": 49,
   "id": "cubic-philippines",
   "metadata": {},
   "outputs": [
    {
     "name": "stdout",
     "output_type": "stream",
     "text": [
      "It's one of the cleanest cities\n"
     ]
    }
   ],
   "source": [
    "for a_clean_city in cleanest_cities:\n",
    "    if city_to_check == a_clean_city:\n",
    "        print(\"It's one of the cleanest cities\")"
   ]
  },
  {
   "cell_type": "code",
   "execution_count": 56,
   "id": "magnetic-register",
   "metadata": {},
   "outputs": [
    {
     "name": "stdout",
     "output_type": "stream",
     "text": [
      "Cheyenne\n",
      "Santa Fe\n",
      "Tucson\n",
      "Great Falls\n",
      "Honolulu\n"
     ]
    }
   ],
   "source": [
    "for a in cleanest_cities:\n",
    "    print(a)"
   ]
  },
  {
   "cell_type": "code",
   "execution_count": 60,
   "id": "bright-discovery",
   "metadata": {},
   "outputs": [
    {
     "data": {
      "text/plain": [
       "['BlueRay  Zzz',\n",
       " 'BlueRay  Burp',\n",
       " 'BlueRay  Dogbone',\n",
       " 'BlueRay  Droop',\n",
       " 'Upchuck  Zzz',\n",
       " 'Upchuck  Burp',\n",
       " 'Upchuck  Dogbone',\n",
       " 'Upchuck  Droop',\n",
       " 'Lojack  Zzz',\n",
       " 'Lojack  Burp',\n",
       " 'Lojack  Dogbone',\n",
       " 'Lojack  Droop',\n",
       " 'Gizmo  Zzz',\n",
       " 'Gizmo  Burp',\n",
       " 'Gizmo  Dogbone',\n",
       " 'Gizmo  Droop',\n",
       " 'Do-Rag  Zzz',\n",
       " 'Do-Rag  Burp',\n",
       " 'Do-Rag  Dogbone',\n",
       " 'Do-Rag  Droop']"
      ]
     },
     "execution_count": 60,
     "metadata": {},
     "output_type": "execute_result"
    }
   ],
   "source": [
    "first_names = [\"BlueRay \", \"Upchuck \", \"Lojack \", \"Gizmo \", \"Do-Rag \"]\n",
    "last_names = [\"Zzz\", \"Burp\", \"Dogbone\", \"Droop\"]\n",
    "full_names = []\n",
    "for a_first_name in first_names:\n",
    "    for a_last_name in last_names:\n",
    "        full_names.append(a_first_name + \" \" + a_last_name)\n",
    "full_names"
   ]
  },
  {
   "cell_type": "markdown",
   "id": "awful-stanley",
   "metadata": {},
   "source": [
    "# Getting information from the user and converting strings and numbers"
   ]
  },
  {
   "cell_type": "code",
   "execution_count": 61,
   "id": "statistical-foundation",
   "metadata": {},
   "outputs": [
    {
     "name": "stdout",
     "output_type": "stream",
     "text": [
      "Enter the name of a city: Rawalpindi\n"
     ]
    }
   ],
   "source": [
    "city_to_check = input(\"Enter the name of a city: \")"
   ]
  },
  {
   "cell_type": "code",
   "execution_count": 62,
   "id": "conservative-fault",
   "metadata": {},
   "outputs": [
    {
     "data": {
      "text/plain": [
       "'Rawalpindi'"
      ]
     },
     "execution_count": 62,
     "metadata": {},
     "output_type": "execute_result"
    }
   ],
   "source": [
    "city_to_check"
   ]
  },
  {
   "cell_type": "code",
   "execution_count": 63,
   "id": "professional-belfast",
   "metadata": {},
   "outputs": [
    {
     "name": "stdout",
     "output_type": "stream",
     "text": [
      "Enter your monthly income: 400\n"
     ]
    }
   ],
   "source": [
    "monthly_income = input(\"Enter your monthly income: \")"
   ]
  },
  {
   "cell_type": "code",
   "execution_count": 66,
   "id": "formed-tomorrow",
   "metadata": {},
   "outputs": [
    {
     "data": {
      "text/plain": [
       "'400400400400400'"
      ]
     },
     "execution_count": 66,
     "metadata": {},
     "output_type": "execute_result"
    }
   ],
   "source": [
    "monthly_income*5"
   ]
  },
  {
   "cell_type": "code",
   "execution_count": 67,
   "id": "recorded-lebanon",
   "metadata": {},
   "outputs": [],
   "source": [
    "monthly_income_as_an_integer = int(monthly_income)"
   ]
  },
  {
   "cell_type": "code",
   "execution_count": 68,
   "id": "elect-oklahoma",
   "metadata": {},
   "outputs": [
    {
     "data": {
      "text/plain": [
       "2000"
      ]
     },
     "execution_count": 68,
     "metadata": {},
     "output_type": "execute_result"
    }
   ],
   "source": [
    "monthly_income_as_an_integer*5"
   ]
  },
  {
   "cell_type": "code",
   "execution_count": 69,
   "id": "regulated-consciousness",
   "metadata": {},
   "outputs": [],
   "source": [
    "monthly_income_as_a_float = float(monthly_income)"
   ]
  },
  {
   "cell_type": "markdown",
   "id": "polar-compound",
   "metadata": {},
   "source": [
    "# Changing case"
   ]
  },
  {
   "cell_type": "code",
   "execution_count": 70,
   "id": "upset-duration",
   "metadata": {},
   "outputs": [],
   "source": [
    "cleanest_cities = [\"Cheyenne\", \"cheyenne\", \"SantaFe\", \"santa fe\", \"Tucson\", \"tucson\", \"Great Falls\",\"great falls\", \"Honolulu\", \"honolulu\"]"
   ]
  },
  {
   "cell_type": "code",
   "execution_count": 71,
   "id": "black-holmes",
   "metadata": {},
   "outputs": [
    {
     "name": "stdout",
     "output_type": "stream",
     "text": [
      "Enter your city: santa fe\n",
      "It's one of the cleanest cities\n"
     ]
    }
   ],
   "source": [
    "city_to_check = input(\"Enter your city: \")\n",
    "city_to_check = city_to_check.lower()\n",
    "cleanest_cities = [\"cheyenne\", \"santa fe\", \"tucson\", \"great falls\", \"honolulu\"]\n",
    "for a_clean_city in cleanest_cities:\n",
    "    if city_to_check == a_clean_city:\n",
    "        print(\"It's one of the cleanest cities\")"
   ]
  },
  {
   "cell_type": "code",
   "execution_count": 74,
   "id": "potential-fever",
   "metadata": {},
   "outputs": [
    {
     "data": {
      "text/plain": [
       "'SANTA FE'"
      ]
     },
     "execution_count": 74,
     "metadata": {},
     "output_type": "execute_result"
    }
   ],
   "source": [
    "city_to_check = city_to_check.upper()\n",
    "city_to_check"
   ]
  },
  {
   "cell_type": "code",
   "execution_count": 75,
   "id": "adverse-alexandria",
   "metadata": {},
   "outputs": [
    {
     "data": {
      "text/plain": [
       "'Santa Fe'"
      ]
     },
     "execution_count": 75,
     "metadata": {},
     "output_type": "execute_result"
    }
   ],
   "source": [
    "city_to_check = city_to_check.title()\n",
    "city_to_check"
   ]
  },
  {
   "cell_type": "markdown",
   "id": "alike-obligation",
   "metadata": {},
   "source": [
    "# Dictionaries"
   ]
  },
  {
   "cell_type": "code",
   "execution_count": 118,
   "id": "entire-folder",
   "metadata": {},
   "outputs": [],
   "source": [
    "customer_29876 = {\"first name\": \"David\", \n",
    "                  \"last name\": \"Elliott\", \n",
    "                  \"address\": \"4803 Wellesley St.\"}"
   ]
  },
  {
   "cell_type": "code",
   "execution_count": 81,
   "id": "running-feedback",
   "metadata": {},
   "outputs": [
    {
     "name": "stdout",
     "output_type": "stream",
     "text": [
      "\n"
     ]
    }
   ],
   "source": [
    "\"\"\"\n",
    "name ={\n",
    "     key: value,\n",
    "     key: value,\n",
    "}\n",
    "\"\"\"\n",
    "#keys can be num and string\n",
    "# values can be string and num\n",
    "print(\"\")"
   ]
  },
  {
   "cell_type": "code",
   "execution_count": 83,
   "id": "correct-picking",
   "metadata": {},
   "outputs": [
    {
     "data": {
      "text/plain": [
       "'4803 Wellesley St.'"
      ]
     },
     "execution_count": 83,
     "metadata": {},
     "output_type": "execute_result"
    }
   ],
   "source": [
    "address_of_customer = customer_29876[\"address\"]\n",
    "address_of_customer "
   ]
  },
  {
   "cell_type": "code",
   "execution_count": 84,
   "id": "fancy-recording",
   "metadata": {},
   "outputs": [],
   "source": [
    "rankings = {5: \"Finland\", \n",
    "            2: \"Norway\", \n",
    "            3: \"Sweden\",\n",
    "            7: \"Iceland\"}"
   ]
  },
  {
   "cell_type": "code",
   "execution_count": 87,
   "id": "relative-furniture",
   "metadata": {},
   "outputs": [
    {
     "data": {
      "text/plain": [
       "'Norway'"
      ]
     },
     "execution_count": 87,
     "metadata": {},
     "output_type": "execute_result"
    }
   ],
   "source": [
    "second_ranking_country = rankings[2]\n",
    "second_ranking_country"
   ]
  },
  {
   "cell_type": "code",
   "execution_count": 88,
   "id": "useful-passport",
   "metadata": {},
   "outputs": [],
   "source": [
    "country_ranks_so_far = {\"Finland\": 5, \n",
    "                        \"Norway\": 2,\n",
    "                        \"Sweden\": 3, \n",
    "                        \"Iceland\": 7}"
   ]
  },
  {
   "cell_type": "code",
   "execution_count": 90,
   "id": "systematic-logistics",
   "metadata": {},
   "outputs": [
    {
     "data": {
      "text/plain": [
       "2"
      ]
     },
     "execution_count": 90,
     "metadata": {},
     "output_type": "execute_result"
    }
   ],
   "source": [
    "norway_ranking = country_ranks_so_far[\"Norway\"]\n",
    "norway_ranking"
   ]
  },
  {
   "cell_type": "code",
   "execution_count": 91,
   "id": "final-thousand",
   "metadata": {},
   "outputs": [],
   "source": [
    "things_to_remember = {\n",
    "    0: \"the lowest number\",\n",
    "    \"a dozen\": 12,\n",
    "    \"snake eyes\": \"a pair of ones\",\n",
    "    13: \"a baker's dozen\",}"
   ]
  },
  {
   "cell_type": "markdown",
   "id": "negative-narrative",
   "metadata": {},
   "source": [
    "# Adding items"
   ]
  },
  {
   "cell_type": "code",
   "execution_count": 109,
   "id": "mounted-front",
   "metadata": {},
   "outputs": [
    {
     "name": "stdout",
     "output_type": "stream",
     "text": [
      "{'first name': 'David', 'last name': 'Elliott'}\n",
      "{'first name': 'David', 'last name': 'Elliott', 'address': '4803 Wellesley St.'}\n"
     ]
    }
   ],
   "source": [
    "customer_29876 = {\"first name\": \"David\", \n",
    "                  \"last name\": \"Elliott\",}\n",
    "print(customer_29876)\n",
    "customer_29876[\"address\"] = \"4803 Wellesley St.\"\n",
    "print(customer_29876)"
   ]
  },
  {
   "cell_type": "code",
   "execution_count": 110,
   "id": "covered-input",
   "metadata": {},
   "outputs": [],
   "source": [
    "things_to_remember = {}"
   ]
  },
  {
   "cell_type": "code",
   "execution_count": 111,
   "id": "insured-seattle",
   "metadata": {},
   "outputs": [
    {
     "data": {
      "text/plain": [
       "{0: 'the lowest number', 'a dozen': 12}"
      ]
     },
     "execution_count": 111,
     "metadata": {},
     "output_type": "execute_result"
    }
   ],
   "source": [
    "things_to_remember[0] = \"the lowest number\"\n",
    "things_to_remember[\"a dozen\"] = 12\n",
    "things_to_remember"
   ]
  },
  {
   "cell_type": "markdown",
   "id": "parallel-liechtenstein",
   "metadata": {},
   "source": [
    "# Removing and changing items"
   ]
  },
  {
   "cell_type": "code",
   "execution_count": 119,
   "id": "atomic-debut",
   "metadata": {},
   "outputs": [
    {
     "name": "stdout",
     "output_type": "stream",
     "text": [
      "{'first name': 'David', 'last name': 'Elliott', 'address': '4803 Wellesley St.'}\n",
      "##########\n",
      "4803 Wellesley St.\n",
      "##########\n",
      "{'first name': 'David', 'last name': 'Elliott'}\n"
     ]
    }
   ],
   "source": [
    "print(customer_29876)\n",
    "\n",
    "print(\"#\"*10)\n",
    "\n",
    "print(customer_29876[\"address\"])\n",
    "print(\"#\"*10)\n",
    "del customer_29876[\"address\"]\n",
    "print(customer_29876)"
   ]
  },
  {
   "cell_type": "code",
   "execution_count": 121,
   "id": "interpreted-haiti",
   "metadata": {},
   "outputs": [
    {
     "data": {
      "text/plain": [
       "{'first name': 'John', 'last name': 'Elliott'}"
      ]
     },
     "execution_count": 121,
     "metadata": {},
     "output_type": "execute_result"
    }
   ],
   "source": [
    "customer_29876['first name'] = \"John\"\n",
    "customer_29876"
   ]
  },
  {
   "cell_type": "code",
   "execution_count": 122,
   "id": "tired-brick",
   "metadata": {},
   "outputs": [
    {
     "name": "stdout",
     "output_type": "stream",
     "text": [
      "cheyenne\n",
      "santa fe\n",
      "tucson\n",
      "great falls\n",
      "honolulu\n"
     ]
    }
   ],
   "source": [
    "for a_clean_city in cleanest_cities:\n",
    "    print(a_clean_city)"
   ]
  },
  {
   "cell_type": "code",
   "execution_count": 123,
   "id": "hydraulic-criterion",
   "metadata": {},
   "outputs": [
    {
     "name": "stdout",
     "output_type": "stream",
     "text": [
      "John\n",
      "Elliott\n"
     ]
    }
   ],
   "source": [
    "for each_value in customer_29876.values():\n",
    "    print(each_value)"
   ]
  },
  {
   "cell_type": "code",
   "execution_count": 124,
   "id": "protective-punch",
   "metadata": {},
   "outputs": [
    {
     "name": "stdout",
     "output_type": "stream",
     "text": [
      "first name\n",
      "last name\n"
     ]
    }
   ],
   "source": [
    "for each_key in customer_29876.keys():\n",
    "    print(each_key)"
   ]
  },
  {
   "cell_type": "code",
   "execution_count": 126,
   "id": "reasonable-relaxation",
   "metadata": {},
   "outputs": [
    {
     "data": {
      "text/plain": [
       "{'first name': 'David',\n",
       " 'last name': 'Elliott',\n",
       " 'address': '4803 Wellesley St.'}"
      ]
     },
     "execution_count": 126,
     "metadata": {},
     "output_type": "execute_result"
    }
   ],
   "source": [
    "customer_29876 = {\n",
    "    \"first name\": \"David\",\n",
    "    \"last name\": \"Elliott\",\n",
    "    \"address\": \"4803 Wellesley St.\",}\n",
    "customer_29876 "
   ]
  },
  {
   "cell_type": "code",
   "execution_count": 127,
   "id": "varied-gossip",
   "metadata": {},
   "outputs": [
    {
     "name": "stdout",
     "output_type": "stream",
     "text": [
      "The customer's first name is David\n",
      "The customer's last name is Elliott\n",
      "The customer's address is 4803 Wellesley St.\n"
     ]
    }
   ],
   "source": [
    "for each_key, each_value in customer_29876.items():\n",
    "    print(\"The customer's \" + each_key + \" is \" + each_value)"
   ]
  },
  {
   "cell_type": "markdown",
   "id": "weekly-conference",
   "metadata": {},
   "source": [
    "# Creating a list of dictionaries"
   ]
  },
  {
   "cell_type": "code",
   "execution_count": 128,
   "id": "vertical-applicant",
   "metadata": {},
   "outputs": [],
   "source": [
    "customers = [\n",
    "    {\n",
    "    \"customer id\": 0,\n",
    "    \"first name\":\"John\",\n",
    "    \"last name\": \"Ogden\",\n",
    "    \"address\": \"301 Arbor Rd.\"},\n",
    "    {\n",
    "        \"customer id\": 1,\n",
    "        \"first name\":\"Ann\",\n",
    "        \"last name\": \"Sattermyer\",\n",
    "        \"address\": \"PO Box 1145\",\n",
    "    }]\n",
    "    "
   ]
  },
  {
   "cell_type": "code",
   "execution_count": 134,
   "id": "special-rochester",
   "metadata": {},
   "outputs": [
    {
     "data": {
      "text/plain": [
       "'John'"
      ]
     },
     "execution_count": 134,
     "metadata": {},
     "output_type": "execute_result"
    }
   ],
   "source": [
    "customers[0][\"first name\"]"
   ]
  },
  {
   "cell_type": "code",
   "execution_count": 135,
   "id": "assumed-calculator",
   "metadata": {},
   "outputs": [],
   "source": [
    "new_customer_id = len(customers)"
   ]
  },
  {
   "cell_type": "code",
   "execution_count": 137,
   "id": "peripheral-discovery",
   "metadata": {},
   "outputs": [],
   "source": [
    "new_dictionary = {\n",
    "    \"customer id\": new_customer_id,\n",
    "    \"first name\": \"John\",\n",
    "    \"last name\": \"Doe\",\n",
    "    \"address\": \"105 Boostan ac\"\n",
    "}"
   ]
  },
  {
   "cell_type": "code",
   "execution_count": 138,
   "id": "requested-rally",
   "metadata": {},
   "outputs": [],
   "source": [
    "customers.append(new_dictionary)"
   ]
  },
  {
   "cell_type": "code",
   "execution_count": 139,
   "id": "partial-behavior",
   "metadata": {},
   "outputs": [
    {
     "data": {
      "text/plain": [
       "[{'customer id': 0,\n",
       "  'first name': 'John',\n",
       "  'last name': 'Ogden',\n",
       "  'address': '301 Arbor Rd.'},\n",
       " {'customer id': 1,\n",
       "  'first name': 'Ann',\n",
       "  'last name': 'Sattermyer',\n",
       "  'address': 'PO Box 1145'},\n",
       " {'customer id': 2,\n",
       "  'first name': 'John',\n",
       "  'last name': 'Doe',\n",
       "  'address': '105 Boostan ac'}]"
      ]
     },
     "execution_count": 139,
     "metadata": {},
     "output_type": "execute_result"
    }
   ],
   "source": [
    "customers"
   ]
  },
  {
   "cell_type": "code",
   "execution_count": 141,
   "id": "pharmaceutical-barcelona",
   "metadata": {},
   "outputs": [
    {
     "data": {
      "text/plain": [
       "['standard', 'volume', 'loyalty']"
      ]
     },
     "execution_count": 141,
     "metadata": {},
     "output_type": "execute_result"
    }
   ],
   "source": [
    "customer_29876 = {\n",
    "    \"first name\": \"David\",\n",
    "    \"last name\": \"Elliott\",\n",
    "    \"discounts\": [\"standard\", \"volume\", \"loyalty\"],}\n",
    "customer_29876[\"discounts\"]"
   ]
  },
  {
   "cell_type": "code",
   "execution_count": 144,
   "id": "referenced-cooper",
   "metadata": {},
   "outputs": [],
   "source": [
    "customers = {\n",
    "    \n",
    "    0: {  \n",
    "    \"first name\":\"John\",\n",
    "    \"last name\": \"Ogden\",\n",
    "    \"address\": \"301 Arbor Rd.\"},\n",
    "    1: {\n",
    "        \"first name\":\"Ann\",\n",
    "        \"last name\": \"Sattermyer\",\n",
    "        \"address\": \"PO Box 1145\",\n",
    "    }}\n",
    "    "
   ]
  },
  {
   "cell_type": "code",
   "execution_count": 145,
   "id": "official-creativity",
   "metadata": {},
   "outputs": [
    {
     "data": {
      "text/plain": [
       "{'first name': 'John', 'last name': 'Ogden', 'address': '301 Arbor Rd.'}"
      ]
     },
     "execution_count": 145,
     "metadata": {},
     "output_type": "execute_result"
    }
   ],
   "source": [
    "customers[0]"
   ]
  },
  {
   "cell_type": "code",
   "execution_count": 146,
   "id": "altered-delta",
   "metadata": {},
   "outputs": [
    {
     "data": {
      "text/plain": [
       "'John'"
      ]
     },
     "execution_count": 146,
     "metadata": {},
     "output_type": "execute_result"
    }
   ],
   "source": [
    "customers[0][\"first name\"]"
   ]
  },
  {
   "cell_type": "code",
   "execution_count": null,
   "id": "seasonal-collaboration",
   "metadata": {},
   "outputs": [],
   "source": []
  }
 ],
 "metadata": {
  "kernelspec": {
   "display_name": "Python 3",
   "language": "python",
   "name": "python3"
  },
  "language_info": {
   "codemirror_mode": {
    "name": "ipython",
    "version": 3
   },
   "file_extension": ".py",
   "mimetype": "text/x-python",
   "name": "python",
   "nbconvert_exporter": "python",
   "pygments_lexer": "ipython3",
   "version": "3.8.5"
  }
 },
 "nbformat": 4,
 "nbformat_minor": 5
}
