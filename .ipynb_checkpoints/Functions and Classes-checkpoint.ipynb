{
 "cells": [
  {
   "cell_type": "markdown",
   "id": "prospective-raising",
   "metadata": {},
   "source": [
    "# Functions"
   ]
  },
  {
   "cell_type": "code",
   "execution_count": 2,
   "id": "visible-finding",
   "metadata": {},
   "outputs": [
    {
     "name": "stdout",
     "output_type": "stream",
     "text": [
      "3\n"
     ]
    }
   ],
   "source": [
    "def add_numbers():\n",
    "    a = 1+2\n",
    "    print(a)\n",
    "add_numbers()"
   ]
  },
  {
   "cell_type": "raw",
   "id": "increasing-buyer",
   "metadata": {},
   "source": [
    "\"\"\"\"\n",
    "def function_name():    # function defination\n",
    "    body\n",
    "    \n",
    "    \n",
    "function_name()   #function call\n",
    "\"\"\""
   ]
  },
  {
   "cell_type": "code",
   "execution_count": 3,
   "id": "spanish-lounge",
   "metadata": {},
   "outputs": [],
   "source": [
    "def add_numbers(first_number, second_number): # first_num, second_num == parameter\n",
    "    total = first_number + second_number\n",
    "    print(total)"
   ]
  },
  {
   "cell_type": "code",
   "execution_count": 5,
   "id": "selected-netherlands",
   "metadata": {},
   "outputs": [
    {
     "name": "stdout",
     "output_type": "stream",
     "text": [
      "3.33\n"
     ]
    }
   ],
   "source": [
    "add_numbers(1.11, 2.22) # (argument, argument)\n",
    "#This matching-by-order makes the arguments positional arguments."
   ]
  },
  {
   "cell_type": "code",
   "execution_count": 6,
   "id": "nutritional-potter",
   "metadata": {},
   "outputs": [],
   "source": [
    "def greet_user(greeting):\n",
    "    print(greeting)"
   ]
  },
  {
   "cell_type": "code",
   "execution_count": 7,
   "id": "tracked-thanks",
   "metadata": {},
   "outputs": [
    {
     "name": "stdout",
     "output_type": "stream",
     "text": [
      "Hello, there.\n"
     ]
    }
   ],
   "source": [
    "greeting = \"Hello, there.\"\n",
    "greet_user(greeting)"
   ]
  },
  {
   "cell_type": "code",
   "execution_count": 8,
   "id": "miniature-driver",
   "metadata": {},
   "outputs": [
    {
     "name": "stdout",
     "output_type": "stream",
     "text": [
      "The names of the couple are Bill and Zelda\n"
     ]
    }
   ],
   "source": [
    "def say_names_of_couple(husband_name, wife_name):\n",
    "    print(\"The names of the couple are \" + husband_name + \" and \" + wife_name)\n",
    "say_names_of_couple(husband_name=\"Bill\", wife_name=\"Zelda\") \n",
    "\n",
    "#keyword arguments."
   ]
  },
  {
   "cell_type": "code",
   "execution_count": 9,
   "id": "closed-statistics",
   "metadata": {},
   "outputs": [],
   "source": [
    "def calc_tax(sales_total, tax_rate=.04):     #ax_rate=.04(default parameters)\n",
    "    print(sales_total * tax_rate)"
   ]
  },
  {
   "cell_type": "code",
   "execution_count": 10,
   "id": "deluxe-burden",
   "metadata": {},
   "outputs": [
    {
     "name": "stdout",
     "output_type": "stream",
     "text": [
      "4.0548\n"
     ]
    }
   ],
   "source": [
    "calc_tax(sales_total=101.37)"
   ]
  },
  {
   "cell_type": "code",
   "execution_count": 11,
   "id": "hawaiian-trademark",
   "metadata": {},
   "outputs": [
    {
     "name": "stdout",
     "output_type": "stream",
     "text": [
      "Hello there, Al the wonder boy\n"
     ]
    }
   ],
   "source": [
    "def give_greeting(greeting, first_name, flattering_nickname=\" the wonder boy\"):\n",
    "    print(greeting + \", \" + first_name + flattering_nickname)\n",
    "\n",
    "    \n",
    "give_greeting(\"Hello there\", first_name=\"Al\")"
   ]
  },
  {
   "cell_type": "code",
   "execution_count": 12,
   "id": "alien-sacrifice",
   "metadata": {},
   "outputs": [],
   "source": [
    "def display_result(winner, score, **other_info):\n",
    "    print(\"The winner was \" + winner)\n",
    "    print(\"The score was \" + score)\n",
    "    for key, value in other_info.items():\n",
    "        print(key + \": \" + value)"
   ]
  },
  {
   "cell_type": "code",
   "execution_count": 13,
   "id": "mobile-document",
   "metadata": {},
   "outputs": [
    {
     "name": "stdout",
     "output_type": "stream",
     "text": [
      "The winner was Real Madrid\n",
      "The score was 1-0\n",
      "overtime: yes\n",
      "injuries: none\n"
     ]
    }
   ],
   "source": [
    "display_result(winner=\"Real Madrid\", score=\"1-0\", overtime =\"yes\", injuries=\"none\")"
   ]
  },
  {
   "cell_type": "code",
   "execution_count": 14,
   "id": "exposed-spyware",
   "metadata": {},
   "outputs": [
    {
     "name": "stdout",
     "output_type": "stream",
     "text": [
      "The winner was Real Madrid\n",
      "The score was 1-0\n",
      "overtime: yes\n",
      "injuries: none\n"
     ]
    }
   ],
   "source": [
    "display_result(\"Real Madrid\", \"1-0\", overtime =\"yes\", injuries=\"none\")"
   ]
  },
  {
   "cell_type": "code",
   "execution_count": 20,
   "id": "settled-walker",
   "metadata": {},
   "outputs": [],
   "source": [
    "def display_nums(first_num, second_num, *opt_nums):\n",
    "    print(first_num)\n",
    "    print(second_num)\n",
    "    print(opt_nums)\n",
    "    #print(type(opt_nums))"
   ]
  },
  {
   "cell_type": "code",
   "execution_count": 21,
   "id": "oriented-lawyer",
   "metadata": {},
   "outputs": [
    {
     "name": "stdout",
     "output_type": "stream",
     "text": [
      "100\n",
      "200\n",
      "(300, 400, 500)\n"
     ]
    }
   ],
   "source": [
    "display_nums(100, 200, 300, 400, 500)"
   ]
  },
  {
   "cell_type": "code",
   "execution_count": 22,
   "id": "spoken-spanish",
   "metadata": {},
   "outputs": [],
   "source": [
    "def calc_tax(sales_total, tax_rate):\n",
    "    tax = sales_total * tax_rate\n",
    "    return tax"
   ]
  },
  {
   "cell_type": "code",
   "execution_count": 23,
   "id": "russian-reset",
   "metadata": {},
   "outputs": [],
   "source": [
    "sales_tax = calc_tax(sales_total=101.37, tax_rate=.05)"
   ]
  },
  {
   "cell_type": "code",
   "execution_count": 24,
   "id": "therapeutic-acceptance",
   "metadata": {},
   "outputs": [
    {
     "data": {
      "text/plain": [
       "5.0685"
      ]
     },
     "execution_count": 24,
     "metadata": {},
     "output_type": "execute_result"
    }
   ],
   "source": [
    "sales_tax"
   ]
  },
  {
   "cell_type": "markdown",
   "id": "caring-wings",
   "metadata": {},
   "source": [
    "# Classes"
   ]
  },
  {
   "cell_type": "code",
   "execution_count": 77,
   "id": "former-crazy",
   "metadata": {},
   "outputs": [],
   "source": [
    "class CAR(): #class defination\n",
    "    #attributes/variable\n",
    "    def __init__(self, make, model, year):\n",
    "        self.make = make\n",
    "        self.model = model\n",
    "        self.year = year\n",
    "        self.bettary = \"200amp\"\n",
    "    #behaviurs/funtions\n",
    "    def car_description(self):\n",
    "            print(f\"The make of the car is {self.make}\")\n",
    "            print(f\"The model of the car is {self.model}\")\n",
    "            print(f\"The year of the car is {self.year}\")\n",
    "    def move(self):\n",
    "            print(f\"{self.make} is moving with speed\")\n",
    "    def applyBreaks(self):\n",
    "            print(f\"{self.model} applied tha breaks\")\n",
    "    def setBettary(self,newbettary):\n",
    "        self.bettary  = newbettary\n",
    "    def getBettary(self):\n",
    "        print(f\"Bettary of the car is {self.bettary}\")\n",
    "                   \n",
    "            \n",
    "            \n",
    "n1 = CAR(\"Honda\", \"Civic\",2021) # class object"
   ]
  },
  {
   "cell_type": "code",
   "execution_count": 61,
   "id": "exceptional-caution",
   "metadata": {},
   "outputs": [
    {
     "name": "stdout",
     "output_type": "stream",
     "text": [
      "Civic applied tha breaks\n"
     ]
    }
   ],
   "source": [
    "n1.applyBreaks()"
   ]
  },
  {
   "cell_type": "code",
   "execution_count": 62,
   "id": "unlimited-vinyl",
   "metadata": {},
   "outputs": [
    {
     "name": "stdout",
     "output_type": "stream",
     "text": [
      "The make of the car is Honda\n",
      "The model of the car is Civic\n",
      "The year of the car is 2021\n"
     ]
    }
   ],
   "source": [
    "n1.car_description()"
   ]
  },
  {
   "cell_type": "code",
   "execution_count": 63,
   "id": "toxic-writing",
   "metadata": {},
   "outputs": [
    {
     "name": "stdout",
     "output_type": "stream",
     "text": [
      "Honda is moving with speed\n"
     ]
    }
   ],
   "source": [
    "n1.move()"
   ]
  },
  {
   "cell_type": "code",
   "execution_count": 64,
   "id": "criminal-grammar",
   "metadata": {},
   "outputs": [
    {
     "data": {
      "text/plain": [
       "'Honda'"
      ]
     },
     "execution_count": 64,
     "metadata": {},
     "output_type": "execute_result"
    }
   ],
   "source": [
    "n1.make"
   ]
  },
  {
   "cell_type": "code",
   "execution_count": 65,
   "id": "graphic-copyright",
   "metadata": {},
   "outputs": [
    {
     "data": {
      "text/plain": [
       "'Civic'"
      ]
     },
     "execution_count": 65,
     "metadata": {},
     "output_type": "execute_result"
    }
   ],
   "source": [
    "n1.model"
   ]
  },
  {
   "cell_type": "code",
   "execution_count": 66,
   "id": "atomic-strength",
   "metadata": {},
   "outputs": [
    {
     "data": {
      "text/plain": [
       "2021"
      ]
     },
     "execution_count": 66,
     "metadata": {},
     "output_type": "execute_result"
    }
   ],
   "source": [
    "n1.year"
   ]
  },
  {
   "cell_type": "code",
   "execution_count": 69,
   "id": "pregnant-stuart",
   "metadata": {},
   "outputs": [
    {
     "data": {
      "text/plain": [
       "'200amp'"
      ]
     },
     "execution_count": 69,
     "metadata": {},
     "output_type": "execute_result"
    }
   ],
   "source": [
    "n1.bettary"
   ]
  },
  {
   "cell_type": "code",
   "execution_count": 78,
   "id": "naval-circumstances",
   "metadata": {},
   "outputs": [],
   "source": [
    "n1.setBettary(\"600amp\")"
   ]
  },
  {
   "cell_type": "code",
   "execution_count": 79,
   "id": "diagnostic-inclusion",
   "metadata": {},
   "outputs": [
    {
     "data": {
      "text/plain": [
       "'600amp'"
      ]
     },
     "execution_count": 79,
     "metadata": {},
     "output_type": "execute_result"
    }
   ],
   "source": [
    "n1.bettary"
   ]
  },
  {
   "cell_type": "code",
   "execution_count": 80,
   "id": "pressed-vinyl",
   "metadata": {},
   "outputs": [
    {
     "name": "stdout",
     "output_type": "stream",
     "text": [
      "Bettary of the car is 600amp\n"
     ]
    }
   ],
   "source": [
    "n1.getBettary()"
   ]
  },
  {
   "cell_type": "markdown",
   "id": "funny-wholesale",
   "metadata": {},
   "source": [
    "# Data Files"
   ]
  },
  {
   "cell_type": "code",
   "execution_count": null,
   "id": "related-extreme",
   "metadata": {},
   "outputs": [],
   "source": [
    "#Write mode\n",
    "#read mode\n",
    "#append mode"
   ]
  },
  {
   "cell_type": "code",
   "execution_count": 1,
   "id": "strong-prague",
   "metadata": {},
   "outputs": [],
   "source": [
    "with open(\"whatevr.txt\", \"w\") as f:\n",
    "    f.write(\"My name is Python\")"
   ]
  },
  {
   "cell_type": "code",
   "execution_count": 3,
   "id": "indonesian-operations",
   "metadata": {},
   "outputs": [],
   "source": [
    "with open(\"test.txt\", \"r\") as f:\n",
    "    data = f.read()"
   ]
  },
  {
   "cell_type": "code",
   "execution_count": 4,
   "id": "accompanied-bridges",
   "metadata": {},
   "outputs": [
    {
     "data": {
      "text/plain": [
       "'This is testing file'"
      ]
     },
     "execution_count": 4,
     "metadata": {},
     "output_type": "execute_result"
    }
   ],
   "source": [
    "data"
   ]
  },
  {
   "cell_type": "code",
   "execution_count": 2,
   "id": "personal-break",
   "metadata": {},
   "outputs": [],
   "source": [
    "with open(\"whatevr.txt\", \"a\") as f:\n",
    "    f.write(\". This text is writen in append mood\")"
   ]
  },
  {
   "cell_type": "code",
   "execution_count": 8,
   "id": "specified-typing",
   "metadata": {},
   "outputs": [],
   "source": [
    "#w+ and r+ mood\n",
    "\n",
    "#w+ write a file and also read file and also create file if file does not exist\n",
    "#r+ wite and read and does not apply if file does not exist"
   ]
  },
  {
   "cell_type": "code",
   "execution_count": 5,
   "id": "bibliographic-corporation",
   "metadata": {},
   "outputs": [
    {
     "name": "stdout",
     "output_type": "stream",
     "text": [
      "My name is Python\n"
     ]
    }
   ],
   "source": [
    "with open(\"NewFile.txt\", \"w+\") as f:\n",
    "    f.write(\"My name is Python\")\n",
    "    f.seek(0)\n",
    "    print(f.read())"
   ]
  },
  {
   "cell_type": "markdown",
   "id": "collected-breakfast",
   "metadata": {},
   "source": [
    "# CSV Files"
   ]
  },
  {
   "cell_type": "code",
   "execution_count": 9,
   "id": "welcome-radiation",
   "metadata": {},
   "outputs": [],
   "source": [
    "import csv"
   ]
  },
  {
   "cell_type": "code",
   "execution_count": 13,
   "id": "indoor-ranking",
   "metadata": {},
   "outputs": [
    {
     "name": "stdout",
     "output_type": "stream",
     "text": [
      "<_csv.reader object at 0x7f76bb5a6510>\n",
      "['name', 'age', 'course']\n",
      "['saad', '22', 'AI']\n",
      "['Ali', '20', 'CNC']\n"
     ]
    }
   ],
   "source": [
    "#read\n",
    "with open(\"new.csv\") as f:\n",
    "    content = csv.reader(f)\n",
    "    print(content)\n",
    "    for data in content:\n",
    "        print(data)\n",
    "    \n",
    "    "
   ]
  },
  {
   "cell_type": "code",
   "execution_count": 19,
   "id": "sustainable-machinery",
   "metadata": {},
   "outputs": [],
   "source": [
    "with open(\"xyz.csv\", \"w\") as f:\n",
    "    data = csv.writer(f)\n",
    "    data.writerow([\"ser\",\"lat\",\"long\"])\n",
    "    data.writerow([1, 25.5532,72.253444])\n",
    "    data.writerow([1, 25.5532,72.253444])\n",
    "    data.writerow([1, 25.5532,72.253444])\n",
    "    data.writerow([1, 25.5532,72.253444])\n",
    "    data.writerow([1, 25.5532,72.253444])\n",
    "    data.writerow([1, 25.5532,72.253444])\n",
    "    data.writerow([1, 25.5532,72.253444])\n",
    "    data.writerow([1, 25.5532,72.253444])\n",
    "    data.writerow([1, 25.5532,72.253444])\n",
    "    data.writerow([1, 25.5532,72.253444])\n",
    "    data.writerow([1, 25.5532,72.253444])\n",
    "    data.writerow([1, 25.5532,72.253444])\n",
    "    data.writerow([1, 25.5532,72.253444])"
   ]
  },
  {
   "cell_type": "code",
   "execution_count": 21,
   "id": "official-metabolism",
   "metadata": {},
   "outputs": [],
   "source": [
    "# Append mood\n",
    "with open(\"xyz.csv\", \"a\") as f:\n",
    "    data = csv.writer(f)\n",
    "    data.writerow([1, 25.5532,72.253444])\n",
    "    data.writerow([1, 25.5532,72.253444])\n",
    "    data.writerow([1, 25.5532,72.253444])\n",
    "    data.writerow([1, 25.5532,72.253444])\n",
    "    data.writerow([1, 25.5532,72.253444])\n",
    "    data.writerow([1, 25.5532,72.253444])\n",
    "    data.writerow([1, 25.5532,72.253444])\n",
    "    data.writerow([1, 25.5532,72.253444])\n",
    "    data.writerow([1, 25.5532,72.253444])\n",
    "    data.writerow([1, 25.5532,72.253444])\n",
    "    data.writerow([1, 25.5532,72.253444])\n",
    "    data.writerow([1, 25.5532,72.253444])\n",
    "    data.writerow([1, 25.5532,72.253444])"
   ]
  },
  {
   "cell_type": "markdown",
   "id": "surprising-disaster",
   "metadata": {},
   "source": [
    "# JSON Files"
   ]
  },
  {
   "cell_type": "code",
   "execution_count": 22,
   "id": "infrared-vanilla",
   "metadata": {},
   "outputs": [],
   "source": [
    "import json"
   ]
  },
  {
   "cell_type": "code",
   "execution_count": 35,
   "id": "funky-fundamental",
   "metadata": {},
   "outputs": [],
   "source": [
    "with open(\"jsonfile.json\", \"w\") as f:\n",
    "    json.dump([1,2,3], f)"
   ]
  },
  {
   "cell_type": "code",
   "execution_count": 36,
   "id": "rubber-alias",
   "metadata": {},
   "outputs": [],
   "source": [
    "with open(\"jsonfile.json\",\"r\") as f:\n",
    "    data = json.load(f)"
   ]
  },
  {
   "cell_type": "code",
   "execution_count": 37,
   "id": "north-mailing",
   "metadata": {},
   "outputs": [
    {
     "data": {
      "text/plain": [
       "[1, 2, 3]"
      ]
     },
     "execution_count": 37,
     "metadata": {},
     "output_type": "execute_result"
    }
   ],
   "source": [
    "data"
   ]
  },
  {
   "cell_type": "code",
   "execution_count": 38,
   "id": "handed-bennett",
   "metadata": {},
   "outputs": [],
   "source": [
    "customer_29876 = {\"first name\": \"David\", \n",
    "                  \"last name\": \"Elliott\", \n",
    "                  \"address\": \"4803 Wellesley St.\"}"
   ]
  },
  {
   "cell_type": "code",
   "execution_count": 39,
   "id": "painful-makeup",
   "metadata": {},
   "outputs": [],
   "source": [
    "with open(\"dict_json\", \"w\") as f:\n",
    "    json.dump(customer_29876, f)"
   ]
  },
  {
   "cell_type": "code",
   "execution_count": 41,
   "id": "continuing-factor",
   "metadata": {},
   "outputs": [],
   "source": [
    "with open(\"dict_json\", \"r\") as f:\n",
    "    data = json.load(f)"
   ]
  },
  {
   "cell_type": "code",
   "execution_count": 42,
   "id": "expressed-belarus",
   "metadata": {},
   "outputs": [
    {
     "data": {
      "text/plain": [
       "{'first name': 'David',\n",
       " 'last name': 'Elliott',\n",
       " 'address': '4803 Wellesley St.'}"
      ]
     },
     "execution_count": 42,
     "metadata": {},
     "output_type": "execute_result"
    }
   ],
   "source": [
    "data"
   ]
  },
  {
   "cell_type": "markdown",
   "id": "innovative-twins",
   "metadata": {},
   "source": [
    "# Exceptions"
   ]
  },
  {
   "cell_type": "code",
   "execution_count": 43,
   "id": "dense-confidence",
   "metadata": {},
   "outputs": [
    {
     "name": "stdout",
     "output_type": "stream",
     "text": [
      "exception caught\n",
      "Got error\n"
     ]
    }
   ],
   "source": [
    "try:\n",
    "    5/0\n",
    "except:\n",
    "    print(\"exception caught\")\n",
    "finally:\n",
    "    print(\"Got error\")"
   ]
  },
  {
   "cell_type": "code",
   "execution_count": 44,
   "id": "north-seafood",
   "metadata": {},
   "outputs": [
    {
     "name": "stdout",
     "output_type": "stream",
     "text": [
      "Zerro division error\n",
      "Got error\n"
     ]
    }
   ],
   "source": [
    "try:\n",
    "    5/0\n",
    "except ZeroDivisionError:\n",
    "    print(\"Zerro division error\")\n",
    "finally:\n",
    "    print(\"Got error\")"
   ]
  },
  {
   "cell_type": "code",
   "execution_count": null,
   "id": "honey-reputation",
   "metadata": {},
   "outputs": [],
   "source": []
  }
 ],
 "metadata": {
  "kernelspec": {
   "display_name": "Python 3",
   "language": "python",
   "name": "python3"
  },
  "language_info": {
   "codemirror_mode": {
    "name": "ipython",
    "version": 3
   },
   "file_extension": ".py",
   "mimetype": "text/x-python",
   "name": "python",
   "nbconvert_exporter": "python",
   "pygments_lexer": "ipython3",
   "version": "3.8.5"
  }
 },
 "nbformat": 4,
 "nbformat_minor": 5
}
