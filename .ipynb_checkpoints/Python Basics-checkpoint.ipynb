{
 "cells": [
  {
   "cell_type": "markdown",
   "id": "assisted-purchase",
   "metadata": {},
   "source": [
    "# Print()"
   ]
  },
  {
   "cell_type": "code",
   "execution_count": 4,
   "id": "numerous-contractor",
   "metadata": {},
   "outputs": [
    {
     "name": "stdout",
     "output_type": "stream",
     "text": [
      "1\n"
     ]
    }
   ],
   "source": [
    "print(1)"
   ]
  },
  {
   "cell_type": "code",
   "execution_count": 5,
   "id": "interior-fourth",
   "metadata": {},
   "outputs": [
    {
     "name": "stdout",
     "output_type": "stream",
     "text": [
      "python\n"
     ]
    }
   ],
   "source": [
    "print(\"python\")"
   ]
  },
  {
   "cell_type": "code",
   "execution_count": 6,
   "id": "closed-integration",
   "metadata": {},
   "outputs": [
    {
     "name": "stdout",
     "output_type": "stream",
     "text": [
      "python\n"
     ]
    }
   ],
   "source": [
    "print('python')"
   ]
  },
  {
   "cell_type": "code",
   "execution_count": 8,
   "id": "cooked-latter",
   "metadata": {},
   "outputs": [
    {
     "name": "stdout",
     "output_type": "stream",
     "text": [
      "python language\n"
     ]
    }
   ],
   "source": [
    "print(\"python\"+\" \"+\"language\")"
   ]
  },
  {
   "cell_type": "code",
   "execution_count": 9,
   "id": "split-twenty",
   "metadata": {},
   "outputs": [
    {
     "name": "stdout",
     "output_type": "stream",
     "text": [
      "3\n"
     ]
    }
   ],
   "source": [
    "print(1+2)"
   ]
  },
  {
   "cell_type": "markdown",
   "id": "romantic-pocket",
   "metadata": {},
   "source": [
    "# Comments"
   ]
  },
  {
   "cell_type": "code",
   "execution_count": 60,
   "id": "secondary-adelaide",
   "metadata": {},
   "outputs": [
    {
     "name": "stdout",
     "output_type": "stream",
     "text": [
      "Hello, world!\n"
     ]
    }
   ],
   "source": [
    "# This is a comment.\n",
    "# This is another comment.\n",
    "print(\"Hello, world!\")"
   ]
  },
  {
   "cell_type": "code",
   "execution_count": 62,
   "id": "complicated-cream",
   "metadata": {},
   "outputs": [
    {
     "name": "stdout",
     "output_type": "stream",
     "text": [
      "Hello World\n"
     ]
    }
   ],
   "source": [
    "'''\n",
    "This is a comment.\n",
    "This is another comment.\n",
    "Python ignores these comments.\n",
    "The code that Python executes is on line 7.\n",
    "'''\n",
    "print(\"Hello World\")"
   ]
  },
  {
   "cell_type": "markdown",
   "id": "scenic-viking",
   "metadata": {},
   "source": [
    "# Python Variables"
   ]
  },
  {
   "cell_type": "code",
   "execution_count": 1,
   "id": "compliant-bulletin",
   "metadata": {},
   "outputs": [],
   "source": [
    "a = 1\n",
    "# a is variable name(identifiar)\n",
    "# = is assignment operator\n",
    "# 1 is values"
   ]
  },
  {
   "cell_type": "code",
   "execution_count": 2,
   "id": "intimate-manhattan",
   "metadata": {},
   "outputs": [
    {
     "name": "stdout",
     "output_type": "stream",
     "text": [
      "1\n"
     ]
    }
   ],
   "source": [
    "print(a)"
   ]
  },
  {
   "cell_type": "code",
   "execution_count": 10,
   "id": "practical-mercy",
   "metadata": {},
   "outputs": [],
   "source": [
    "b = \"python\""
   ]
  },
  {
   "cell_type": "code",
   "execution_count": 11,
   "id": "pursuant-steel",
   "metadata": {},
   "outputs": [
    {
     "name": "stdout",
     "output_type": "stream",
     "text": [
      "python\n"
     ]
    }
   ],
   "source": [
    "print(b)"
   ]
  },
  {
   "cell_type": "code",
   "execution_count": 12,
   "id": "recognized-allah",
   "metadata": {},
   "outputs": [],
   "source": [
    "_b = \"variable name\""
   ]
  },
  {
   "cell_type": "code",
   "execution_count": 13,
   "id": "naughty-effect",
   "metadata": {},
   "outputs": [
    {
     "name": "stdout",
     "output_type": "stream",
     "text": [
      "variable name\n"
     ]
    }
   ],
   "source": [
    "print(_b)"
   ]
  },
  {
   "cell_type": "code",
   "execution_count": 14,
   "id": "broad-closing",
   "metadata": {},
   "outputs": [],
   "source": [
    "float_num = 1.5"
   ]
  },
  {
   "cell_type": "code",
   "execution_count": 15,
   "id": "confident-pioneer",
   "metadata": {},
   "outputs": [
    {
     "name": "stdout",
     "output_type": "stream",
     "text": [
      "1.5\n"
     ]
    }
   ],
   "source": [
    "print(float_num)"
   ]
  },
  {
   "cell_type": "code",
   "execution_count": 16,
   "id": "experienced-tuning",
   "metadata": {},
   "outputs": [],
   "source": [
    "w = a + float_num"
   ]
  },
  {
   "cell_type": "code",
   "execution_count": 17,
   "id": "included-property",
   "metadata": {},
   "outputs": [
    {
     "name": "stdout",
     "output_type": "stream",
     "text": [
      "2.5\n"
     ]
    }
   ],
   "source": [
    "print(w)"
   ]
  },
  {
   "cell_type": "markdown",
   "id": "boxed-timber",
   "metadata": {},
   "source": [
    "# Math expressions: Familiar operators"
   ]
  },
  {
   "cell_type": "code",
   "execution_count": 22,
   "id": "contrary-significance",
   "metadata": {},
   "outputs": [
    {
     "name": "stdout",
     "output_type": "stream",
     "text": [
      "4\n",
      "4\n",
      "-12\n"
     ]
    }
   ],
   "source": [
    "popular_number = 2 + 2\n",
    "print(popular_number)\n",
    "print(2 + 2)\n",
    "loss = 12 - 24\n",
    "print(loss)"
   ]
  },
  {
   "cell_type": "code",
   "execution_count": 24,
   "id": "circular-nowhere",
   "metadata": {},
   "outputs": [
    {
     "name": "stdout",
     "output_type": "stream",
     "text": [
      "36\n",
      "3.0\n",
      "200.075\n"
     ]
    }
   ],
   "source": [
    "dozens = 3 * 12\n",
    "popular_number = 12 / 4\n",
    "num = .075\n",
    "total = num + 200\n",
    "print(dozens)\n",
    "print(popular_number)\n",
    "print(total)"
   ]
  },
  {
   "cell_type": "markdown",
   "id": "dirty-steal",
   "metadata": {},
   "source": [
    "# Variable Names Legal and Illegal"
   ]
  },
  {
   "cell_type": "markdown",
   "id": "outdoor-amsterdam",
   "metadata": {},
   "source": [
    "1. You can't enclose it in quotation marks.\n",
    "2. You can't have any spaces in it.\n",
    "3. It can't be a number or begin with a number.\n",
    "4. In addition, a variable can't be any of Python's reserved words"
   ]
  },
  {
   "cell_type": "markdown",
   "id": "handed-three",
   "metadata": {},
   "source": [
    "and, \n",
    "as,\n",
    "assert, \n",
    "break, \n",
    "class,  \n",
    "continue, \n",
    "def,  \n",
    "del,  \n",
    "elif,  \n",
    "else,  \n",
    "except,  \n",
    "False,  \n",
    "finally,  \n",
    "for,  \n",
    "from,  \n",
    "global,  \n",
    "if,  \n",
    "import,  \n",
    "in,  \n",
    "is,\n",
    "lambda,\n",
    "None,\n",
    "nonlocal, \n",
    "not,  \n",
    "or,  \n",
    "pass, \n",
    "print,  \n",
    "raise,  \n",
    "return,  \n",
    "True,  \n",
    "try,  \n",
    "while,  \n",
    "with,  \n",
    "yield,"
   ]
  },
  {
   "cell_type": "markdown",
   "id": "professional-trail",
   "metadata": {},
   "source": [
    "<li>A variable name can contain only lowercase letters, uppercase letters,\n",
    "numbers, and underscores.\n",
    "<li>Though a variable name can't be any of Python's keywords, it can\n",
    "contain any of those keywords.\n",
    "<li>Capital letters are fine, but be careful. Variable names are case-sensitive.\n",
    "A rose with a lowercase r is not a Rose with an uppercase R. If you\n",
    "assign the string \"Floribundas\" to the variable rose, and then ask\n",
    "Python for the value assigned to Rose, you'll come up empty.\n",
    "<li>Python's governing body recommends breaking up multi-word\n",
    "variables with underscores. That's what I'll ask you to do with your\n",
    "own variable names. It'll make them more readable, and you'll be less\n",
    "likely to get variables mixed up."
   ]
  },
  {
   "cell_type": "raw",
   "id": "intellectual-smell",
   "metadata": {},
   "source": [
    "user_response\n",
    "user_response_time\n",
    "user_response_time_limit"
   ]
  },
  {
   "cell_type": "markdown",
   "id": "stuffed-connection",
   "metadata": {},
   "source": [
    "# Math expressions: Unfamiliar operators"
   ]
  },
  {
   "cell_type": "code",
   "execution_count": 34,
   "id": "legendary-confusion",
   "metadata": {},
   "outputs": [
    {
     "name": "stdout",
     "output_type": "stream",
     "text": [
      "6\n",
      "______________________________\n",
      "62\n",
      "______________________________\n",
      "10\n",
      "______________________________\n",
      "36\n"
     ]
    }
   ],
   "source": [
    "whats_left_over = 10 % 3\n",
    "age = 5\n",
    "age = age + 1\n",
    "print(age)\n",
    "print(\"_\"*30)\n",
    "age = 12\n",
    "age += 50\n",
    "print(age)\n",
    "print(\"_\"*30)\n",
    "age = 12\n",
    "age -= 2\n",
    "print(age)\n",
    "print(\"_\"*30)\n",
    "age = 12\n",
    "age *= 3\n",
    "print(age)"
   ]
  },
  {
   "cell_type": "markdown",
   "id": "forbidden-concentration",
   "metadata": {},
   "source": [
    "# Concatenating text strings"
   ]
  },
  {
   "cell_type": "code",
   "execution_count": 37,
   "id": "pacific-remedy",
   "metadata": {},
   "outputs": [
    {
     "name": "stdout",
     "output_type": "stream",
     "text": [
      "Hello, World!\n",
      "Hello, World!\n",
      "HelloWorld\n"
     ]
    }
   ],
   "source": [
    "print(\"Hello, World!\")\n",
    "greeting = \"Hello, World!\"\n",
    "print(greeting)\n",
    "greeting = \"Hello\"\n",
    "addressee = \"World\"\n",
    "whole_greeting = greeting + addressee\n",
    "print(whole_greeting)"
   ]
  },
  {
   "cell_type": "code",
   "execution_count": 40,
   "id": "electronic-sewing",
   "metadata": {},
   "outputs": [
    {
     "ename": "TypeError",
     "evalue": "can only concatenate str (not \"int\") to str",
     "output_type": "error",
     "traceback": [
      "\u001b[0;31m---------------------------------------------------------------------------\u001b[0m",
      "\u001b[0;31mTypeError\u001b[0m                                 Traceback (most recent call last)",
      "\u001b[0;32m<ipython-input-40-87cba91f55d5>\u001b[0m in \u001b[0;36m<module>\u001b[0;34m\u001b[0m\n\u001b[0;32m----> 1\u001b[0;31m \u001b[0mprint\u001b[0m\u001b[0;34m(\u001b[0m\u001b[0;34m\"The sum of 2 plus 2 is \"\u001b[0m \u001b[0;34m+\u001b[0m \u001b[0;36m4\u001b[0m\u001b[0;34m)\u001b[0m\u001b[0;34m\u001b[0m\u001b[0;34m\u001b[0m\u001b[0m\n\u001b[0m\u001b[1;32m      2\u001b[0m \u001b[0;31m# gives error\u001b[0m\u001b[0;34m\u001b[0m\u001b[0;34m\u001b[0m\u001b[0;34m\u001b[0m\u001b[0m\n",
      "\u001b[0;31mTypeError\u001b[0m: can only concatenate str (not \"int\") to str"
     ]
    }
   ],
   "source": [
    "print(\"The sum of 2 plus 2 is \" + 4)\n",
    "# gives error"
   ]
  },
  {
   "cell_type": "code",
   "execution_count": 39,
   "id": "latin-nelson",
   "metadata": {},
   "outputs": [
    {
     "name": "stdout",
     "output_type": "stream",
     "text": [
      "The sum of 2 plus 2 is 4\n"
     ]
    }
   ],
   "source": [
    "print(\"The sum of 2 plus 2 is \" + \"4\")"
   ]
  },
  {
   "cell_type": "markdown",
   "id": "bridal-quantum",
   "metadata": {},
   "source": [
    "# if statements"
   ]
  },
  {
   "cell_type": "code",
   "execution_count": 41,
   "id": "partial-farming",
   "metadata": {},
   "outputs": [
    {
     "name": "stdout",
     "output_type": "stream",
     "text": [
      "Yep, it's cat.\n"
     ]
    }
   ],
   "source": [
    "species = \"cat\"\n",
    "if species == \"cat\":\n",
    "    print(\"Yep, it's cat.\")"
   ]
  },
  {
   "cell_type": "code",
   "execution_count": 42,
   "id": "satisfactory-thermal",
   "metadata": {},
   "outputs": [
    {
     "name": "stdout",
     "output_type": "stream",
     "text": [
      "Everything makes sense.\n"
     ]
    }
   ],
   "source": [
    "if 2 + 2 == 4:\n",
    "    print(\"Everything makes sense.\")"
   ]
  },
  {
   "cell_type": "markdown",
   "id": "adolescent-bride",
   "metadata": {},
   "source": [
    "# Comparison operators"
   ]
  },
  {
   "cell_type": "markdown",
   "id": "overhead-leonard",
   "metadata": {},
   "source": [
    "<li>==. It's a type of comparison operator, specifically it's\n",
    "the equality operator.\n",
    "<li>comparison operator, !=, is the opposite of ==. It means is not\n",
    "equal to."
   ]
  },
  {
   "cell_type": "code",
   "execution_count": 44,
   "id": "allied-latino",
   "metadata": {},
   "outputs": [
    {
     "name": "stdout",
     "output_type": "stream",
     "text": [
      "Name is coorect\n"
     ]
    }
   ],
   "source": [
    "full_name = \"Mark\" + \" \" + \"Myers\"\n",
    "if full_name == \"Mark\" + \" \" + \"Myers\":\n",
    "    print(\"Name is coorect\")"
   ]
  },
  {
   "cell_type": "code",
   "execution_count": 45,
   "id": "subjective-grain",
   "metadata": {},
   "outputs": [],
   "source": [
    "your_ticket_number = 487208\n",
    "if your_ticket_number != 487208:\n",
    "    print(\"Better luck next time.\")"
   ]
  },
  {
   "cell_type": "raw",
   "id": "increased-ceremony",
   "metadata": {},
   "source": [
    "if a>0:\n",
    "if a<0:\n",
    "if a == 0:\n",
    "if a<=0:\n",
    "if a>= 0\n",
    "if a != 0: "
   ]
  },
  {
   "cell_type": "markdown",
   "id": "abandoned-arrangement",
   "metadata": {},
   "source": [
    "# else and elif statements"
   ]
  },
  {
   "cell_type": "code",
   "execution_count": 46,
   "id": "functional-bullet",
   "metadata": {},
   "outputs": [
    {
     "name": "stdout",
     "output_type": "stream",
     "text": [
      "Yep, it's cat.\n"
     ]
    }
   ],
   "source": [
    "species = \"cat\"\n",
    "if species == \"cat\":\n",
    "    print(\"Yep, it's cat.\")\n",
    "if species != \"cat\":\n",
    "    print(\"Nope, not cat.\")"
   ]
  },
  {
   "cell_type": "code",
   "execution_count": 47,
   "id": "integrated-alpha",
   "metadata": {},
   "outputs": [
    {
     "name": "stdout",
     "output_type": "stream",
     "text": [
      "Yep, it's cat.\n"
     ]
    }
   ],
   "source": [
    "if species == \"cat\":\n",
    "    print(\"Yep, it's cat.\")\n",
    "else:\n",
    "    print(\"Nope, not cat.\")"
   ]
  },
  {
   "cell_type": "code",
   "execution_count": 49,
   "id": "floppy-meaning",
   "metadata": {},
   "outputs": [
    {
     "name": "stdout",
     "output_type": "stream",
     "text": [
      "10\n"
     ]
    }
   ],
   "source": [
    "donut_condition = \"fresh\"\n",
    "if donut_condition == \"fresh\":\n",
    "    buy_score = 10\n",
    "elif donut_price == \"low\":\n",
    "    buy_score = 5\n",
    "else:\n",
    "    buy_score = 0\n",
    "    \n",
    "print(buy_score)"
   ]
  },
  {
   "cell_type": "markdown",
   "id": "southern-approval",
   "metadata": {},
   "source": [
    "# Testing sets of conditions"
   ]
  },
  {
   "cell_type": "code",
   "execution_count": 51,
   "id": "laden-shepherd",
   "metadata": {},
   "outputs": [
    {
     "name": "stdout",
     "output_type": "stream",
     "text": [
      "try to recruit him\n"
     ]
    }
   ],
   "source": [
    "weight = 400\n",
    "time = 3\n",
    "if weight > 300 and time < 6:\n",
    "    status = \"try to recruit him\"\n",
    "    \n",
    "print(status)"
   ]
  },
  {
   "cell_type": "code",
   "execution_count": 53,
   "id": "solar-beach",
   "metadata": {},
   "outputs": [
    {
     "name": "stdout",
     "output_type": "stream",
     "text": [
      "try to recruit him\n"
     ]
    }
   ],
   "source": [
    "age = 20\n",
    "height = 70\n",
    "if weight > 300 and time < 6 and age > 17 and height < 72:\n",
    "    \n",
    "    status = \"try to recruit him\"\n",
    "print(status)"
   ]
  },
  {
   "cell_type": "markdown",
   "id": "obvious-criticism",
   "metadata": {},
   "source": [
    "# if statements nested"
   ]
  },
  {
   "cell_type": "code",
   "execution_count": 58,
   "id": "empirical-netherlands",
   "metadata": {},
   "outputs": [],
   "source": [
    "a = 1\n",
    "b = a\n",
    "c = 2\n",
    "d = c\n",
    "e = 3\n",
    "f = 4\n",
    "x = 10\n",
    "y = 5\n",
    "g = 1\n",
    "h = 12\n",
    "if c == d:\n",
    "    if x == y:\n",
    "        g = h\n",
    "    elif a == b:\n",
    "        g = h\n",
    "    else:\n",
    "        e = f\n",
    "else:\n",
    "    e = f"
   ]
  },
  {
   "cell_type": "code",
   "execution_count": null,
   "id": "racial-fifth",
   "metadata": {},
   "outputs": [],
   "source": []
  }
 ],
 "metadata": {
  "kernelspec": {
   "display_name": "Python 3",
   "language": "python",
   "name": "python3"
  },
  "language_info": {
   "codemirror_mode": {
    "name": "ipython",
    "version": 3
   },
   "file_extension": ".py",
   "mimetype": "text/x-python",
   "name": "python",
   "nbconvert_exporter": "python",
   "pygments_lexer": "ipython3",
   "version": "3.8.5"
  }
 },
 "nbformat": 4,
 "nbformat_minor": 5
}
